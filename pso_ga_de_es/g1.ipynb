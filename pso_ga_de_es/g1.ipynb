{
  "cells": [
    {
      "cell_type": "code",
      "source": [
        "import pandas as pd\n",
        "pd.set_option('display.max_rows', None)\n",
        "pd.set_option('display.max_columns', None)\n",
        "\n"
      ],
      "metadata": {
        "id": "uIneLcwcW_ap"
      },
      "execution_count": null,
      "outputs": []
    },
    {
      "cell_type": "markdown",
      "source": [
        "# G1"
      ],
      "metadata": {
        "id": "cU77PlwfQ5lW"
      }
    },
    {
      "cell_type": "code",
      "source": [
        "import numpy as np\n",
        "\n",
        "def objective_function(x):\n",
        "    x = np.array(x).reshape(-1, 13)\n",
        "    f = 5 * np.sum(x[:, :4], axis=1) - 5 * np.sum(x[:, :4] ** 2, axis=1) - np.sum(x[:, 4:], axis=1)\n",
        "    return f\n",
        "\n",
        "def constraint_function(x):\n",
        "    x = np.array(x).reshape(-1, 13)\n",
        "    g1 = 2 * x[:, 0] + 2 * x[:, 1] + x[:, 9] + x[:, 10] - 10\n",
        "    g2 = 2 * x[:, 0] + 2 * x[:, 2] + x[:, 9] + x[:, 11] - 10\n",
        "    g3 = 2 * x[:, 1] + 2 * x[:, 2] + x[:, 10] + x[:, 11] - 10\n",
        "    g4 = -8 * x[:, 0] + x[:, 9]\n",
        "    g5 = -8 * x[:, 1] + x[:, 10]\n",
        "    g6 = -8 * x[:, 2] + x[:, 11]\n",
        "    g7 = -2 * x[:, 3] - x[:, 4] + x[:, 9]\n",
        "    g8 = -2 * x[:, 5] - x[:, 6] + x[:, 10]\n",
        "    g9 = -2 * x[:, 7] - x[:, 8] + x[:, 11]\n",
        "\n",
        "    return np.vstack((g1, g2, g3, g4, g5, g6, g7, g8, g9))  \n",
        "\n",
        "def constraints(x):\n",
        "\n",
        "    return np.all(constraint_function(x) <= 0, axis=0)\n",
        "\n",
        "def objective_function_with_constraints(x):\n",
        "    if not constraints(x):\n",
        "        return 0\n",
        "    else:\n",
        "        return objective_function(x)\n"
      ],
      "metadata": {
        "id": "7PZQ0xXJUjpa"
      },
      "execution_count": null,
      "outputs": []
    },
    {
      "cell_type": "code",
      "source": [
        "def get_real_pop(): # populacao com todas as particulas válidas \n",
        "  filename = '/content/populacao_teste.txt'\n",
        "\n",
        "  # Lista para armazenar os indivíduos lidos\n",
        "  real_population = []\n",
        "\n",
        "  # Ler o arquivo de texto\n",
        "  with open(filename, 'r') as file:\n",
        "      for line in file:\n",
        "          individual = list(map(float, line.strip().split()))\n",
        "          real_population.append(individual)\n",
        "  real_population  = np.array(real_population)\n",
        "  return real_population"
      ],
      "metadata": {
        "id": "NjPJU270ecuw"
      },
      "execution_count": null,
      "outputs": []
    },
    {
      "cell_type": "markdown",
      "source": [
        "## pso "
      ],
      "metadata": {
        "id": "zkPlBFNCRCZa"
      }
    },
    {
      "cell_type": "code",
      "execution_count": null,
      "metadata": {
        "id": "xZ1C6axoHYx5"
      },
      "outputs": [],
      "source": [
        "import numpy as np\n",
        "import pandas as pd\n",
        "\n",
        "# Número de partículas\n",
        "n_particles = 50\n",
        "\n",
        "# Número de dimensões\n",
        "n_dimensions = 13\n",
        "\n",
        "# Limites inferiores e superiores para cada dimensão\n",
        "lb = [0]*9 + [0]*3 + [0]\n",
        "ub = [1]*9 + [100]*3 + [1]\n",
        "\n",
        "# Parâmetros do PSO\n",
        "c1 = 2\n",
        "c2 = 2\n",
        "w = 0.7\n",
        "max_iter = 300\n",
        "n_experiments = 30\n",
        "\n",
        "# Armazenar resultados\n",
        "results = []\n",
        "\n",
        "pso_final = []\n",
        "#PSO\n",
        "for exp in range(n_experiments):\n",
        "    # Inicializar enxame\n",
        "    #particles = np.empty((n_particles, n_dimensions))\n",
        "    #for i in range(n_particles):  ## gerar individuos válidos \n",
        "    #    while True:\n",
        "    #        particle = np.random.uniform(low=lb, high=ub, size=n_dimensions)\n",
        "    #        if objective_function_with_constraints(particle) != 0:\n",
        "    #            particles[i] = particle\n",
        "    #            break\n",
        "    particles = get_real_pop()\n",
        "    personal_best_scores = np.array([objective_function_with_constraints(p) for p in particles])\n",
        "\n",
        "    velocities = np.zeros((n_particles, n_dimensions)) #inicializar velocidades com 0 \n",
        "    personal_best_positions = particles.copy()\n",
        "\n",
        "    # Inicializar o melhor global\n",
        "    global_best_position = personal_best_positions[np.argmin(personal_best_scores)]\n",
        "    global_best_score = min(personal_best_scores)\n",
        "\n",
        "    # Loop principal\n",
        "    for i in range(max_iter):\n",
        "        print(f'------------------')\n",
        "        print(f'experimento {exp+1} de {n_experiments}')\n",
        "        print(f'iteração {i+1}')\n",
        "        print(f'Global best score: {global_best_score}')\n",
        "        for j in range(n_particles):\n",
        "            # Atualizar velocidade\n",
        "            velocities[j] = (w * velocities[j] +\n",
        "                             c1 * np.random.rand() * (personal_best_positions[j] - particles[j]) +\n",
        "                             c2 * np.random.rand() * (global_best_position - particles[j]))\n",
        "            \n",
        "            # Atualizar posição\n",
        "            particles[j] += velocities[j]\n",
        "            \n",
        "            # Aplicar limites\n",
        "            particles[j] = np.clip(particles[j], lb, ub)\n",
        "            \n",
        "            # Atualizar o melhor pessoal\n",
        "            score = objective_function_with_constraints(particles[j])\n",
        "            if score < personal_best_scores[j]:\n",
        "                personal_best_positions[j] = particles[j].copy()\n",
        "                personal_best_scores[j] = score\n",
        "                \n",
        "                # Atualizar o melhor global\n",
        "                if score < global_best_score:\n",
        "                    global_best_position = particles[j].copy()\n",
        "                    global_best_score = score\n",
        "\n",
        "        # Armazenar resultados\n",
        "        results.append({\n",
        "            'Experiment': exp+1,\n",
        "            'Iteration': i+1,\n",
        "            'Best Fitness': np.min(global_best_score),\n",
        "            'Best Particle': global_best_position,\n",
        "            'Worst Fitness': np.max(personal_best_scores),\n",
        "            'Average Fitness': np.mean(personal_best_scores),\n",
        "            'Standard Deviation': np.std(personal_best_scores),\n",
        "            'Median Fitness': np.median(personal_best_scores),\n",
        "        })\n",
        "    pso_final.append(np.min(global_best_score))\n",
        "        \n",
        "\n",
        "# Criar dataframe com os resultados\n",
        "df = pd.DataFrame(results)\n",
        "\n",
        "df.head(5)\n",
        "\n"
      ]
    },
    {
      "cell_type": "code",
      "source": [
        "df.head(1000)"
      ],
      "metadata": {
        "id": "c2gifSTGKzgI"
      },
      "execution_count": null,
      "outputs": []
    },
    {
      "cell_type": "code",
      "source": [
        "df_pso = df.sort_values('Best Fitness', ascending=True).reset_index()\n",
        "best_PSO_individual = df_pso.loc[0, 'Best Particle']\n",
        "fitness_best_PSO_individual = df_pso.loc[0, 'Best Fitness']\n",
        "df_pso.head()"
      ],
      "metadata": {
        "id": "dlPUq1-sWmWK"
      },
      "execution_count": null,
      "outputs": []
    },
    {
      "cell_type": "code",
      "source": [
        "best_PSO_individual"
      ],
      "metadata": {
        "id": "8tbPibAJ588T"
      },
      "execution_count": null,
      "outputs": []
    },
    {
      "cell_type": "markdown",
      "source": [
        "\n",
        "## ga"
      ],
      "metadata": {
        "id": "v59Vjsc2RPAs"
      }
    },
    {
      "cell_type": "code",
      "source": [
        "import math\n",
        "import random\n",
        "import numpy as np\n",
        "import pandas as pd\n",
        "\n",
        "# Definindo os parâmetros do algoritmo genético\n",
        "pop_size = 50\n",
        "genes = 13\n",
        "generations = 300\n",
        "lb = [0]*9 + [0]*3 + [0]\n",
        "ub = [1]*9 + [100]*3 + [1]\n",
        "crossover_prob = 0.9\n",
        "mutation_prob = 0.12\n",
        "n_experiments = 30\n",
        "\n",
        "results_ga = []\n",
        "ga_final = []\n",
        "\n",
        "for exp in range(n_experiments):\n",
        "   # Inicialização da população\n",
        "   # Inicializar enxame\n",
        "   #particles = np.empty((n_particles, n_dimensions))\n",
        "   #for i in range(n_particles):  ## gerar individuos válidos \n",
        "   #    while True:\n",
        "   #        particle = np.random.uniform(low=lb, high=ub, size=n_dimensions)\n",
        "   #        if objective_function_with_constraints(particle) != 0:\n",
        "   #            particles[i] = particle\n",
        "   #            break\n",
        "   #population = particles\n",
        "    population = get_real_pop()\n",
        "    for gen in range(generations):\n",
        "        # Avaliação da população\n",
        "        fitness_values = [objective_function_with_constraints(ind) for ind in population]\n",
        "        print(f'------------------')\n",
        "        print(f'experimento {exp+1} de {n_experiments}')\n",
        "        print(f'generation {gen+1}')\n",
        "        print(f'Global best score: {min(fitness_values)}')\n",
        "        print(f'Global worst score: {max(fitness_values)}')\n",
        "\n",
        "        # Seleção por torneio\n",
        "        parents = []\n",
        "        while len(parents) < len(population):\n",
        "            contenders_indices = random.sample(range(len(population)), 2)\n",
        "            contenders = [population[i] for i in contenders_indices]\n",
        "            contenders_fitness = [fitness_values[i] for i in contenders_indices]\n",
        "            best_contender = contenders[contenders_fitness.index(min(contenders_fitness))]\n",
        "            parents.append(best_contender)\n",
        "\n",
        "        # Garantindo que o número de pais seja par\n",
        "        if len(parents) % 2 != 0:\n",
        "            parents.pop()\n",
        "\n",
        "\n",
        "\n",
        "        # Assegurando que o melhor indivíduo sempre estará na próxima geração\n",
        "        best_individual = population[np.argmin(fitness_values)]\n",
        "\n",
        "        # Crossover Uniforme\n",
        "        offspring = []\n",
        "        for i in range(0, len(parents), 2):\n",
        "            parent1 = parents[i]\n",
        "            parent2 = parents[i+1]\n",
        "            child1 = parent1.copy()\n",
        "            child2 = parent2.copy()\n",
        "            for j in range(len(parent1)):\n",
        "                if random.random() < crossover_prob:\n",
        "                    child1[j] = parent2[j]\n",
        "                    child2[j] = parent1[j]\n",
        "            offspring.extend([child1, child2])\n",
        "            \n",
        "       # Crossover Blend\n",
        "        alpha = 0.5\n",
        "        for i in range(0, len(parents), 2):\n",
        "            parent1 = np.array(parents[i])\n",
        "            parent2 = np.array(parents[i+1])\n",
        "\n",
        "            d = np.abs(parent1 - parent2)\n",
        "            low = np.clip(np.minimum(parent1, parent2) - alpha * d, lb, ub)\n",
        "            high = np.clip(np.maximum(parent1, parent2) + alpha * d, lb, ub)\n",
        "            child1 = np.random.uniform(low, high)\n",
        "            child2 = np.random.uniform(low, high)\n",
        "\n",
        "            offspring.extend([child1.tolist(), child2.tolist()])\n",
        "            \n",
        "\n",
        "            \n",
        "\n",
        "\n",
        "        # Substituição na população\n",
        "        population = offspring + [best_individual]\n",
        "\n",
        "        # Manter o tamanho da população constante em 50 indivíduos\n",
        "        fitness_values = [objective_function_with_constraints(ind) for ind in population]\n",
        "        pop_with_fitness = list(zip(population, fitness_values))\n",
        "        pop_with_fitness.sort(key=lambda x: x[1])\n",
        "        population, fitness_values = map(list, zip(*pop_with_fitness[:50]))\n",
        "\n",
        "\n",
        "        # Mutação\n",
        "        best_index = np.argmin(fitness_values)  \n",
        "        for i in range(len(population)):\n",
        "            if i != best_index and np.random.rand() <= mutation_prob:\n",
        "                mutation_point = np.random.randint(genes)\n",
        "                new_value = np.random.uniform(lb[mutation_point], ub[mutation_point])\n",
        "                temp_individual = population[i].copy()\n",
        "                temp_individual[mutation_point] = new_value\n",
        "                if constraints(temp_individual):\n",
        "                    population[i] = temp_individual\n",
        "\n",
        "        # Reavaliação da população após crossover e mutação\n",
        "        fitness_values = [objective_function_with_constraints(ind) for ind in population]\n",
        "\n",
        "        best_fitness = min(fitness_values)\n",
        "        worst_fitness = max(fitness_values)\n",
        "        mean_fitness = np.mean(fitness_values)\n",
        "        std_dev_fitness = np.std(fitness_values)\n",
        "\n",
        "        results_ga.append({\n",
        "            'experimento':exp+1,\n",
        "            'geração': gen,\n",
        "            'melhor_fitness': best_fitness,\n",
        "            'melhor_individuo': population[np.argmin(fitness_values)],\n",
        "            'pior_fitness': worst_fitness,\n",
        "            'media_fitness': mean_fitness,\n",
        "            'desvio_padrao': std_dev_fitness,\n",
        "            'numero_individuos': len(population),\n",
        "        })\n",
        "\n",
        "         \n",
        "    ga_final.append(best_fitness)   \n",
        "\n",
        "df_ga = pd.DataFrame(results_ga)\n",
        "df_ga.head(5)\n",
        "\n",
        "\n"
      ],
      "metadata": {
        "id": "hUfFxgKMbATt"
      },
      "execution_count": null,
      "outputs": []
    },
    {
      "cell_type": "code",
      "source": [
        "df_ga.head(1000)"
      ],
      "metadata": {
        "id": "zPD0xSTVSIBJ"
      },
      "execution_count": null,
      "outputs": []
    },
    {
      "cell_type": "code",
      "source": [
        "df_ga = df_ga.sort_values('melhor_fitness', ascending=True).reset_index()\n",
        "best_ga_individual = df_ga.loc[0, 'melhor_individuo']\n",
        "fitness_best_ga_individual = df_ga.loc[0, 'melhor_fitness']\n",
        "df_ga.head()"
      ],
      "metadata": {
        "id": "YZrc6M3b1ADn"
      },
      "execution_count": null,
      "outputs": []
    },
    {
      "cell_type": "markdown",
      "source": [
        "## de"
      ],
      "metadata": {
        "id": "dWn1H4arRWNM"
      }
    },
    {
      "cell_type": "code",
      "source": [
        "# Definindo os parâmetros do de\n",
        "pop_size = 50\n",
        "genes = 13\n",
        "generations = 300\n",
        "lb = [0]*9 + [0]*3 + [0]\n",
        "ub = [1]*9 + [100]*3 + [1]\n",
        "crossover_prob = 0.6\n",
        "mutation_prob = 0.1\n",
        "F = 0.8  # Fator de escala para a mutação\n",
        "\n",
        "results_de = []\n",
        "de_final = []\n",
        "\n",
        "for exp in range(30):\n",
        "   # Inicialização da população\n",
        "   # Inicializar enxame\n",
        "   #particles = np.empty((n_particles, n_dimensions))\n",
        "   #for i in range(n_particles):  ## gerar individuos válidos \n",
        "   #    while True:\n",
        "   #        particle = np.random.uniform(low=lb, high=ub, size=n_dimensions)\n",
        "   #        if objective_function_with_constraints(particle) != 0:\n",
        "   #            particles[i] = particle\n",
        "   #            break\n",
        "   #population = particles\n",
        "    population = get_real_pop()\n",
        "\n",
        "    # Loop das gerações\n",
        "    for gen in range(generations):\n",
        "        # Avaliação da população\n",
        "        fitness_values = [objective_function_with_constraints(ind) for ind in population]\n",
        "\n",
        "        # Salvar o melhor indivíduo para elitismo\n",
        "        best_index = np.argmin(fitness_values)\n",
        "        best_individual = population[best_index].copy()\n",
        "\n",
        "        # Evolução Diferencial\n",
        "        new_population = population.copy()\n",
        "        for i in range(pop_size):\n",
        "            indices = [idx for idx in range(pop_size) if idx != i]\n",
        "            a, b, c = population[np.random.choice(indices, 3, replace=False)]\n",
        "            mutant = np.clip(a + F * (b - c), lb, ub)  # Mutação\n",
        "            cross_points = np.random.rand(genes) < crossover_prob\n",
        "            if not np.any(cross_points):\n",
        "                cross_points[np.random.randint(0, genes)] = True\n",
        "            trial = np.where(cross_points, mutant, population[i])  # Crossover\n",
        "            if objective_function_with_constraints(trial) < fitness_values[i]:  # Aceitação\n",
        "                new_population[i] = trial\n",
        "\n",
        "        population = new_population\n",
        "\n",
        "        # Elitismo: garantir que o melhor indivíduo esteja na nova população\n",
        "        new_fitness_values = [objective_function_with_constraints(ind) for ind in population]\n",
        "        worst_index = np.argmax(new_fitness_values)\n",
        "        if new_fitness_values[worst_index] > fitness_values[best_index]:\n",
        "            population[worst_index] = best_individual\n",
        "\n",
        "        # Estatísticas da geração\n",
        "        fitness_values = [objective_function_with_constraints(ind) for ind in population]\n",
        "        best_fitness = min(fitness_values)\n",
        "        worst_fitness = max(fitness_values)\n",
        "        mean_fitness = np.mean(fitness_values)\n",
        "        std_dev_fitness = np.std(fitness_values)\n",
        "\n",
        "        results_de.append({\n",
        "            'experimento': exp+1,\n",
        "            'geracao': gen,\n",
        "            'melhor_fitness': best_fitness,\n",
        "            'melhor_particula': population[np.argmin(fitness_values)],\n",
        "            'pior_fitness': worst_fitness,\n",
        "            'media_dos_fitness': mean_fitness,\n",
        "            'desvio_padrao': std_dev_fitness,\n",
        "            'n_de_individuos': len(population),\n",
        "        })\n",
        "        print(f'Experimento {exp+1}, Geração {gen+1}')\n",
        "        print(f'Melhor partícula: {population[np.argmin(fitness_values)]}, Fitness: {best_fitness}')\n",
        "        print(f'Pior partícula: {population[np.argmax(fitness_values)]}, Fitness: {worst_fitness}')\n",
        "        print('---'*20)\n",
        "    de_final.append(best_fitness)\n",
        "\n",
        "df_de = pd.DataFrame(results_de)\n",
        "df_de.head(5)\n"
      ],
      "metadata": {
        "id": "mqPwk6OV82sf"
      },
      "execution_count": null,
      "outputs": []
    },
    {
      "cell_type": "code",
      "source": [
        "df_de.head(1000)"
      ],
      "metadata": {
        "id": "kJEzQaAVLK3q"
      },
      "execution_count": null,
      "outputs": []
    },
    {
      "cell_type": "code",
      "source": [
        "df_de = df_de.sort_values('melhor_fitness', ascending=True).reset_index()\n",
        "best_de_individual = df_de.loc[0, 'melhor_particula']\n",
        "fitness_best_de_individual = df_de.loc[0, 'melhor_fitness']\n",
        "df_de.head()"
      ],
      "metadata": {
        "id": "zJg7nkLz2Stt"
      },
      "execution_count": null,
      "outputs": []
    },
    {
      "cell_type": "markdown",
      "source": [
        "## ES\n",
        "\n",
        "#parametros globais + EE-CMA"
      ],
      "metadata": {
        "id": "JsoKiqRKUTR8"
      }
    },
    {
      "cell_type": "code",
      "source": [
        "import numpy as np\n",
        "from scipy.linalg import sqrtm\n",
        "\n",
        "# Definindo os parâmetros da evolução estratégica\n",
        "pop_size = 50\n",
        "genes = 13\n",
        "generations = 300\n",
        "lb = [0]*9 + [0]*3 + [0]\n",
        "ub = [1]*9 + [100]*3 + [1]\n",
        "sigma = 0.1  # Desvio padrão para a mutação\n",
        "tau = 1/np.sqrt(2*genes)  # Parâmetro de autoadaptação\n",
        "\n",
        "results_es = []\n",
        "es_g_final = []\n",
        "\n",
        "\n",
        "\n",
        "# Loop dos experimentos\n",
        "for exp in range(30):\n",
        "  population = get_real_pop()\n",
        "  sigmas = sigma * np.ones((pop_size, genes, genes))\n",
        "  # Loop das gerações\n",
        "  # Loop das gerações\n",
        "  for gen in range(generations):\n",
        "      # Avaliação da população\n",
        "      fitness_values = [objective_function_with_constraints(ind) for ind in population]\n",
        "\n",
        "      # Elitismo: guardar o melhor indivíduo\n",
        "      best_index = np.argmin(fitness_values)\n",
        "      best_individual = population[best_index].copy()\n",
        "\n",
        "      # Estratégia Evolutiva\n",
        "      for i in range(pop_size):\n",
        "          # Seleção de pais aleatórios\n",
        "          parent_indices = np.random.choice(pop_size, 2, replace=False)\n",
        "          parents = population[parent_indices]\n",
        "\n",
        "          # CMA-ES\n",
        "          mean = np.mean(parents, axis=0)\n",
        "          cov = np.cov(parents.T)\n",
        "          child = np.random.multivariate_normal(mean, cov)\n",
        "          child = np.clip(child, lb, ub)\n",
        "\n",
        "          # Adição de mutação\n",
        "          child += sigma * np.random.randn(genes)\n",
        "          child = np.clip(child, lb, ub)\n",
        "\n",
        "          # Seleção (mu, sigma)\n",
        "          if objective_function_with_constraints(child) < fitness_values[i]:\n",
        "              population[i] = child\n",
        "\n",
        "      # Elitismo: substituir o pior indivíduo pelo melhor da geração anterior, se necessário\n",
        "      fitness_values = [objective_function_with_constraints(ind) for ind in population]\n",
        "      worst_index = np.argmax(fitness_values)\n",
        "      if fitness_values[worst_index] > objective_function_with_constraints(best_individual):\n",
        "          population[worst_index] = best_individual\n",
        "\n",
        "      # Estatísticas da geração\n",
        "      best_fitness = min(fitness_values)\n",
        "      worst_fitness = max(fitness_values)\n",
        "      mean_fitness = np.mean(fitness_values)\n",
        "      std_dev_fitness = np.std(fitness_values)\n",
        "\n",
        "      results_es.append({\n",
        "          'experimento': exp+1,\n",
        "          'geracao': gen,\n",
        "          'melhor_fitness': best_fitness,\n",
        "          'melhor_particula': population[np.argmin(fitness_values)],\n",
        "          'pior_fitness': worst_fitness,\n",
        "          'media_dos_fitness': mean_fitness,\n",
        "          'desvio_padrao': std_dev_fitness,\n",
        "          'n_de_individuos': len(population),\n",
        "      })\n",
        "\n",
        "      # Imprime as melhores e piores partículas\n",
        "      print(f'Experimento {exp+1}, Geração {gen+1}')\n",
        "      print(f'Melhor partícula: {population[np.argmin(fitness_values)]}, Fitness: {best_fitness}')\n",
        "      print(f'Pior partícula: {population[np.argmax(fitness_values)]}, Fitness: {worst_fitness}')\n",
        "      print('---'*20)\n",
        "      \n",
        "  es_g_final.append(best_fitness)\n",
        "\n",
        "df_g_es = pd.DataFrame(results_es)\n",
        "df_g_es.head(5)\n",
        "\n",
        "\n",
        "\n"
      ],
      "metadata": {
        "id": "oNVz6zWgUVIC"
      },
      "execution_count": null,
      "outputs": []
    },
    {
      "cell_type": "code",
      "source": [
        "df_g_es.head(1000)"
      ],
      "metadata": {
        "id": "vPDN2gNaM_Sd"
      },
      "execution_count": null,
      "outputs": []
    },
    {
      "cell_type": "code",
      "source": [
        "df_g_es = df_g_es.sort_values('melhor_fitness', ascending=True).reset_index()\n",
        "best_g_es_individual = df_g_es.loc[0, 'melhor_particula']\n",
        "fitness_best_g_es_individual = df_g_es.loc[0, 'melhor_fitness']\n",
        "df_g_es.head()"
      ],
      "metadata": {
        "id": "wR6xqFm33A2P"
      },
      "execution_count": null,
      "outputs": []
    },
    {
      "cell_type": "code",
      "source": [],
      "metadata": {
        "id": "mRAAgn7rfdST"
      },
      "execution_count": null,
      "outputs": []
    },
    {
      "cell_type": "markdown",
      "source": [
        "## resultados obtidos"
      ],
      "metadata": {
        "id": "BXWjFSZ2UYpq"
      }
    },
    {
      "cell_type": "code",
      "source": [
        "resultados_G1 = pd.DataFrame({\n",
        "    'EVO. Alg.':['PSO','GA','DE','ES'],\n",
        "    'Best Fitness':[fitness_best_PSO_individual,fitness_best_ga_individual,fitness_best_de_individual,fitness_best_g_es_individual],\n",
        "    'Best Particle EA':[best_PSO_individual,best_ga_individual,best_de_individual,best_g_es_individual]})\n",
        "\n",
        "resultados_G1 = resultados_G1.sort_values('Best Fitness',ascending=True).reset_index()\n",
        "resultados_G1.head()"
      ],
      "metadata": {
        "id": "c6GmMo_lUbZ6"
      },
      "execution_count": null,
      "outputs": []
    },
    {
      "cell_type": "code",
      "source": [
        "import seaborn as sns\n",
        "import matplotlib.pyplot as plt\n",
        "\n",
        "\n",
        "data = pd.DataFrame({\n",
        "    'PSO': pso_final,\n",
        "    'GA': ga_final,\n",
        "    'DE': de_final,\n",
        "    'ES G': es_g_final,\n",
        "})\n",
        "\n",
        "\n",
        "plt.figure(figsize=(10, 6))\n",
        "sns.boxplot(data=data)\n",
        "plt.title('Boxplot dos Fitness Finais')\n",
        "plt.ylabel('Fitness')\n",
        "plt.show()\n"
      ],
      "metadata": {
        "id": "VtF6fPGeUXrD"
      },
      "execution_count": null,
      "outputs": []
    },
    {
      "cell_type": "markdown",
      "source": [
        "# G2"
      ],
      "metadata": {
        "id": "2-5_KWx6Rptd"
      }
    },
    {
      "cell_type": "markdown",
      "source": [
        "## ES"
      ],
      "metadata": {
        "id": "E1aGYQL_R0NM"
      }
    },
    {
      "cell_type": "code",
      "source": [],
      "metadata": {
        "id": "Jv8xNpb3URpj"
      },
      "execution_count": null,
      "outputs": []
    },
    {
      "cell_type": "markdown",
      "source": [
        "## resultados obtidos"
      ],
      "metadata": {
        "id": "aRzqAHwtUcjT"
      }
    },
    {
      "cell_type": "code",
      "source": [],
      "metadata": {
        "id": "gCYU62awUgpa"
      },
      "execution_count": null,
      "outputs": []
    },
    {
      "cell_type": "code",
      "source": [],
      "metadata": {
        "id": "aEZeUuAXUf36"
      },
      "execution_count": null,
      "outputs": []
    }
  ],
  "metadata": {
    "colab": {
      "provenance": [],
      "collapsed_sections": [
        "2-5_KWx6Rptd"
      ],
      "gpuType": "T4"
    },
    "kernelspec": {
      "display_name": "Python 3",
      "name": "python3"
    },
    "language_info": {
      "name": "python"
    },
    "accelerator": "GPU",
    "gpuClass": "standard"
  },
  "nbformat": 4,
  "nbformat_minor": 0
}